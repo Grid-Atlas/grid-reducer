{
 "cells": [
  {
   "cell_type": "markdown",
   "id": "47ed55ff",
   "metadata": {},
   "source": [
    "## Comparing Network Plots between Original and Reduced Circuit"
   ]
  },
  {
   "cell_type": "code",
   "execution_count": null,
   "id": "fd7837d0",
   "metadata": {},
   "outputs": [],
   "source": [
    "from pathlib import Path\n",
    "from grid_reducer.reducer import OpenDSSModelReducer\n",
    "from grid_reducer.network import plot_graph, get_graph_from_circuit"
   ]
  },
  {
   "cell_type": "code",
   "execution_count": null,
   "id": "66124b8b",
   "metadata": {},
   "outputs": [],
   "source": [
    "file_path = Path(\"../data/JN/Master.dss\")\n",
    "reducer = OpenDSSModelReducer(master_dss_file=file_path)\n",
    "reduced_ckt = reducer.reduce()\n",
    "plot_graph(get_graph_from_circuit(reduced_ckt), show_node_labels=False, show_edge_labels=False, node_size=0.5)\n",
    "plot_graph(get_graph_from_circuit(reducer.ckt), show_node_labels=False, show_edge_labels=False, node_size=0.5)"
   ]
  }
 ],
 "metadata": {
  "kernelspec": {
   "display_name": "env",
   "language": "python",
   "name": "python3"
  },
  "language_info": {
   "codemirror_mode": {
    "name": "ipython",
    "version": 3
   },
   "file_extension": ".py",
   "mimetype": "text/x-python",
   "name": "python",
   "nbconvert_exporter": "python",
   "pygments_lexer": "ipython3",
   "version": "3.13.2"
  }
 },
 "nbformat": 4,
 "nbformat_minor": 5
}
